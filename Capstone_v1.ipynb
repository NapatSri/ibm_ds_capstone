{
 "cells": [
  {
   "cell_type": "markdown",
   "metadata": {},
   "source": [
    "## Table of contents\n",
    "* [Introduction: Business Problem](#introduction)\n",
    "* [Data](#data)\n",
    "* [Methodology](#methodology)\n",
    "* [Analysis](#analysis)\n",
    "* [Results and Discussion](#results)\n",
    "* [Conclusion](#conclusion)\n",
    "<hr>"
   ]
  },
  {
   "cell_type": "markdown",
   "metadata": {},
   "source": [
    "<h3>Introduction/Business Problem</h3> <a name=\"introduction\"></a>"
   ]
  },
  {
   "cell_type": "markdown",
   "metadata": {},
   "source": [
    "In this project, I will try to locate and recommend areas in Bangkok for tourists to be able to plan their visit suiting with their traveling styles.\n",
    "\n",
    "Bangkok is an abundant city with food, entertainment, night-life and etc., so we will try to detect district which outstanding on each attribute.\n",
    "<hr>"
   ]
  },
  {
   "cell_type": "markdown",
   "metadata": {},
   "source": [
    "<h3>Data</h3><a name=\"data\"></a>"
   ]
  },
  {
   "cell_type": "markdown",
   "metadata": {},
   "source": [
    "Required data:\n",
    "* Districts in Bangkok, Thailand\n",
    "    * To define name and location of Bangkok city\n",
    "    * Link 'https://en.wikipedia.org/wiki/List_of_districts_of_Bangkok'\n",
    "* Number of venues in each district\n",
    "    * Retrieve from https://developer.foursquare.com/ (FourSquare)\n",
    "    * Use information from the previous one to retrieve venues data in each district.\n",
    "\n",
    "The information from venues after clustered, using K-Mean, will be able to provide groups of distircts which are outstading in each attribute. Based on the result of retrieving, we can provide suggestion on which district is suitable for each traveling style."
   ]
  },
  {
   "cell_type": "code",
   "execution_count": 7,
   "metadata": {},
   "outputs": [],
   "source": [
    "import pandas as pd\n",
    "import numpy as np\n",
    "import requests\n",
    "import folium \n",
    "from sklearn.cluster import KMeans\n",
    "import matplotlib.cm as cm\n",
    "import matplotlib.colors as colors\n",
    "import seaborn as sns; sns.set()\n",
    "import matplotlib.pyplot as plt\n",
    "from yellowbrick.cluster.elbow import KElbowVisualizer"
   ]
  },
  {
   "cell_type": "code",
   "execution_count": 8,
   "metadata": {},
   "outputs": [
    {
     "data": {
      "text/html": [
       "<div>\n",
       "<style scoped>\n",
       "    .dataframe tbody tr th:only-of-type {\n",
       "        vertical-align: middle;\n",
       "    }\n",
       "\n",
       "    .dataframe tbody tr th {\n",
       "        vertical-align: top;\n",
       "    }\n",
       "\n",
       "    .dataframe thead th {\n",
       "        text-align: right;\n",
       "    }\n",
       "</style>\n",
       "<table border=\"1\" class=\"dataframe\">\n",
       "  <thead>\n",
       "    <tr style=\"text-align: right;\">\n",
       "      <th></th>\n",
       "      <th>District</th>\n",
       "      <th>Post-code</th>\n",
       "      <th>Popu-lation</th>\n",
       "      <th>Latitude</th>\n",
       "      <th>Longitude</th>\n",
       "    </tr>\n",
       "  </thead>\n",
       "  <tbody>\n",
       "    <tr>\n",
       "      <th>0</th>\n",
       "      <td>Bang Bon</td>\n",
       "      <td>10150</td>\n",
       "      <td>105161</td>\n",
       "      <td>13.659200</td>\n",
       "      <td>100.399100</td>\n",
       "    </tr>\n",
       "    <tr>\n",
       "      <th>1</th>\n",
       "      <td>Bang Kapi</td>\n",
       "      <td>10240</td>\n",
       "      <td>148465</td>\n",
       "      <td>13.765833</td>\n",
       "      <td>100.647778</td>\n",
       "    </tr>\n",
       "    <tr>\n",
       "      <th>2</th>\n",
       "      <td>Bang Khae</td>\n",
       "      <td>10160</td>\n",
       "      <td>191781</td>\n",
       "      <td>13.696111</td>\n",
       "      <td>100.409444</td>\n",
       "    </tr>\n",
       "    <tr>\n",
       "      <th>3</th>\n",
       "      <td>Bang Khen</td>\n",
       "      <td>10220</td>\n",
       "      <td>189539</td>\n",
       "      <td>13.873889</td>\n",
       "      <td>100.596389</td>\n",
       "    </tr>\n",
       "    <tr>\n",
       "      <th>4</th>\n",
       "      <td>Bang Kho Laem</td>\n",
       "      <td>10120</td>\n",
       "      <td>94956</td>\n",
       "      <td>13.693333</td>\n",
       "      <td>100.502500</td>\n",
       "    </tr>\n",
       "  </tbody>\n",
       "</table>\n",
       "</div>"
      ],
      "text/plain": [
       "        District  Post-code  Popu-lation   Latitude   Longitude\n",
       "0       Bang Bon      10150       105161  13.659200  100.399100\n",
       "1      Bang Kapi      10240       148465  13.765833  100.647778\n",
       "2      Bang Khae      10160       191781  13.696111  100.409444\n",
       "3      Bang Khen      10220       189539  13.873889  100.596389\n",
       "4  Bang Kho Laem      10120        94956  13.693333  100.502500"
      ]
     },
     "execution_count": 8,
     "metadata": {},
     "output_type": "execute_result"
    }
   ],
   "source": [
    "df = pd.read_html('https://en.wikipedia.org/wiki/List_of_districts_of_Bangkok')[0]\n",
    "df.drop(['MapNr','Thai','No. ofSubdis-trictsKhwaeng'],axis=1,inplace=True)\n",
    "df.rename(columns={'District(Khet)':'District'},inplace=True)\n",
    "df.head()"
   ]
  },
  {
   "cell_type": "code",
   "execution_count": null,
   "metadata": {},
   "outputs": [],
   "source": []
  }
 ],
 "metadata": {
  "kernelspec": {
   "display_name": "Python 3",
   "language": "python",
   "name": "python3"
  },
  "language_info": {
   "codemirror_mode": {
    "name": "ipython",
    "version": 3
   },
   "file_extension": ".py",
   "mimetype": "text/x-python",
   "name": "python",
   "nbconvert_exporter": "python",
   "pygments_lexer": "ipython3",
   "version": "3.7.6"
  }
 },
 "nbformat": 4,
 "nbformat_minor": 4
}
